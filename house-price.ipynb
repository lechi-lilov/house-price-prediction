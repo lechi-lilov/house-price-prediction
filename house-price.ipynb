{
 "cells": [
  {
   "cell_type": "code",
   "execution_count": 3,
   "id": "4048e41a-8ae1-46d4-b1dc-96d4faa0ca7e",
   "metadata": {},
   "outputs": [],
   "source": [
    "import pandas as pd\n",
    "import numpy as np\n",
    "import matplotlib.pyplot as plt"
   ]
  },
  {
   "cell_type": "code",
   "execution_count": 4,
   "id": "920620aa-4d69-45d5-81dd-13558f615b8c",
   "metadata": {},
   "outputs": [],
   "source": [
    "df = pd.read_csv(\"housing.csv\")"
   ]
  },
  {
   "cell_type": "code",
   "execution_count": 5,
   "id": "5fcb4047-74ba-4985-93d0-ec4994863598",
   "metadata": {
    "tags": []
   },
   "outputs": [
    {
     "data": {
      "text/html": [
       "<div>\n",
       "<style scoped>\n",
       "    .dataframe tbody tr th:only-of-type {\n",
       "        vertical-align: middle;\n",
       "    }\n",
       "\n",
       "    .dataframe tbody tr th {\n",
       "        vertical-align: top;\n",
       "    }\n",
       "\n",
       "    .dataframe thead th {\n",
       "        text-align: right;\n",
       "    }\n",
       "</style>\n",
       "<table border=\"1\" class=\"dataframe\">\n",
       "  <thead>\n",
       "    <tr style=\"text-align: right;\">\n",
       "      <th></th>\n",
       "      <th>longitude</th>\n",
       "      <th>latitude</th>\n",
       "      <th>housing_median_age</th>\n",
       "      <th>total_rooms</th>\n",
       "      <th>total_bedrooms</th>\n",
       "      <th>population</th>\n",
       "      <th>households</th>\n",
       "      <th>median_income</th>\n",
       "      <th>median_house_value</th>\n",
       "    </tr>\n",
       "  </thead>\n",
       "  <tbody>\n",
       "    <tr>\n",
       "      <th>count</th>\n",
       "      <td>20640.000000</td>\n",
       "      <td>20640.000000</td>\n",
       "      <td>20640.000000</td>\n",
       "      <td>20640.000000</td>\n",
       "      <td>20433.000000</td>\n",
       "      <td>20640.000000</td>\n",
       "      <td>20640.000000</td>\n",
       "      <td>20640.000000</td>\n",
       "      <td>20640.000000</td>\n",
       "    </tr>\n",
       "    <tr>\n",
       "      <th>mean</th>\n",
       "      <td>-119.569704</td>\n",
       "      <td>35.631861</td>\n",
       "      <td>28.639486</td>\n",
       "      <td>2635.763081</td>\n",
       "      <td>537.870553</td>\n",
       "      <td>1425.476744</td>\n",
       "      <td>499.539680</td>\n",
       "      <td>3.870671</td>\n",
       "      <td>206855.816909</td>\n",
       "    </tr>\n",
       "    <tr>\n",
       "      <th>std</th>\n",
       "      <td>2.003532</td>\n",
       "      <td>2.135952</td>\n",
       "      <td>12.585558</td>\n",
       "      <td>2181.615252</td>\n",
       "      <td>421.385070</td>\n",
       "      <td>1132.462122</td>\n",
       "      <td>382.329753</td>\n",
       "      <td>1.899822</td>\n",
       "      <td>115395.615874</td>\n",
       "    </tr>\n",
       "    <tr>\n",
       "      <th>min</th>\n",
       "      <td>-124.350000</td>\n",
       "      <td>32.540000</td>\n",
       "      <td>1.000000</td>\n",
       "      <td>2.000000</td>\n",
       "      <td>1.000000</td>\n",
       "      <td>3.000000</td>\n",
       "      <td>1.000000</td>\n",
       "      <td>0.499900</td>\n",
       "      <td>14999.000000</td>\n",
       "    </tr>\n",
       "    <tr>\n",
       "      <th>25%</th>\n",
       "      <td>-121.800000</td>\n",
       "      <td>33.930000</td>\n",
       "      <td>18.000000</td>\n",
       "      <td>1447.750000</td>\n",
       "      <td>296.000000</td>\n",
       "      <td>787.000000</td>\n",
       "      <td>280.000000</td>\n",
       "      <td>2.563400</td>\n",
       "      <td>119600.000000</td>\n",
       "    </tr>\n",
       "    <tr>\n",
       "      <th>50%</th>\n",
       "      <td>-118.490000</td>\n",
       "      <td>34.260000</td>\n",
       "      <td>29.000000</td>\n",
       "      <td>2127.000000</td>\n",
       "      <td>435.000000</td>\n",
       "      <td>1166.000000</td>\n",
       "      <td>409.000000</td>\n",
       "      <td>3.534800</td>\n",
       "      <td>179700.000000</td>\n",
       "    </tr>\n",
       "    <tr>\n",
       "      <th>75%</th>\n",
       "      <td>-118.010000</td>\n",
       "      <td>37.710000</td>\n",
       "      <td>37.000000</td>\n",
       "      <td>3148.000000</td>\n",
       "      <td>647.000000</td>\n",
       "      <td>1725.000000</td>\n",
       "      <td>605.000000</td>\n",
       "      <td>4.743250</td>\n",
       "      <td>264725.000000</td>\n",
       "    </tr>\n",
       "    <tr>\n",
       "      <th>max</th>\n",
       "      <td>-114.310000</td>\n",
       "      <td>41.950000</td>\n",
       "      <td>52.000000</td>\n",
       "      <td>39320.000000</td>\n",
       "      <td>6445.000000</td>\n",
       "      <td>35682.000000</td>\n",
       "      <td>6082.000000</td>\n",
       "      <td>15.000100</td>\n",
       "      <td>500001.000000</td>\n",
       "    </tr>\n",
       "  </tbody>\n",
       "</table>\n",
       "</div>"
      ],
      "text/plain": [
       "          longitude      latitude  housing_median_age   total_rooms  \\\n",
       "count  20640.000000  20640.000000        20640.000000  20640.000000   \n",
       "mean    -119.569704     35.631861           28.639486   2635.763081   \n",
       "std        2.003532      2.135952           12.585558   2181.615252   \n",
       "min     -124.350000     32.540000            1.000000      2.000000   \n",
       "25%     -121.800000     33.930000           18.000000   1447.750000   \n",
       "50%     -118.490000     34.260000           29.000000   2127.000000   \n",
       "75%     -118.010000     37.710000           37.000000   3148.000000   \n",
       "max     -114.310000     41.950000           52.000000  39320.000000   \n",
       "\n",
       "       total_bedrooms    population    households  median_income  \\\n",
       "count    20433.000000  20640.000000  20640.000000   20640.000000   \n",
       "mean       537.870553   1425.476744    499.539680       3.870671   \n",
       "std        421.385070   1132.462122    382.329753       1.899822   \n",
       "min          1.000000      3.000000      1.000000       0.499900   \n",
       "25%        296.000000    787.000000    280.000000       2.563400   \n",
       "50%        435.000000   1166.000000    409.000000       3.534800   \n",
       "75%        647.000000   1725.000000    605.000000       4.743250   \n",
       "max       6445.000000  35682.000000   6082.000000      15.000100   \n",
       "\n",
       "       median_house_value  \n",
       "count        20640.000000  \n",
       "mean        206855.816909  \n",
       "std         115395.615874  \n",
       "min          14999.000000  \n",
       "25%         119600.000000  \n",
       "50%         179700.000000  \n",
       "75%         264725.000000  \n",
       "max         500001.000000  "
      ]
     },
     "execution_count": 5,
     "metadata": {},
     "output_type": "execute_result"
    }
   ],
   "source": [
    "df.describe()"
   ]
  },
  {
   "cell_type": "code",
   "execution_count": 6,
   "id": "c3d1823f-2645-4f8f-94ab-1760a167b6e0",
   "metadata": {},
   "outputs": [
    {
     "data": {
      "text/plain": [
       "(20640, 10)"
      ]
     },
     "execution_count": 6,
     "metadata": {},
     "output_type": "execute_result"
    }
   ],
   "source": [
    "df.shape"
   ]
  },
  {
   "cell_type": "code",
   "execution_count": 7,
   "id": "294d2ba3-f2bb-4239-a15d-7b662794cb01",
   "metadata": {
    "tags": []
   },
   "outputs": [
    {
     "name": "stdout",
     "output_type": "stream",
     "text": [
      "<class 'pandas.core.frame.DataFrame'>\n",
      "RangeIndex: 20640 entries, 0 to 20639\n",
      "Data columns (total 10 columns):\n",
      " #   Column              Non-Null Count  Dtype  \n",
      "---  ------              --------------  -----  \n",
      " 0   longitude           20640 non-null  float64\n",
      " 1   latitude            20640 non-null  float64\n",
      " 2   housing_median_age  20640 non-null  float64\n",
      " 3   total_rooms         20640 non-null  float64\n",
      " 4   total_bedrooms      20433 non-null  float64\n",
      " 5   population          20640 non-null  float64\n",
      " 6   households          20640 non-null  float64\n",
      " 7   median_income       20640 non-null  float64\n",
      " 8   median_house_value  20640 non-null  float64\n",
      " 9   ocean_proximity     20640 non-null  object \n",
      "dtypes: float64(9), object(1)\n",
      "memory usage: 1.6+ MB\n"
     ]
    }
   ],
   "source": [
    "df.info()"
   ]
  },
  {
   "cell_type": "code",
   "execution_count": 8,
   "id": "dfe48eeb-8a02-4e10-be11-81dcacb90579",
   "metadata": {},
   "outputs": [
    {
     "data": {
      "text/html": [
       "<div>\n",
       "<style scoped>\n",
       "    .dataframe tbody tr th:only-of-type {\n",
       "        vertical-align: middle;\n",
       "    }\n",
       "\n",
       "    .dataframe tbody tr th {\n",
       "        vertical-align: top;\n",
       "    }\n",
       "\n",
       "    .dataframe thead th {\n",
       "        text-align: right;\n",
       "    }\n",
       "</style>\n",
       "<table border=\"1\" class=\"dataframe\">\n",
       "  <thead>\n",
       "    <tr style=\"text-align: right;\">\n",
       "      <th></th>\n",
       "      <th>longitude</th>\n",
       "      <th>latitude</th>\n",
       "      <th>housing_median_age</th>\n",
       "      <th>total_rooms</th>\n",
       "      <th>total_bedrooms</th>\n",
       "      <th>population</th>\n",
       "      <th>households</th>\n",
       "      <th>median_income</th>\n",
       "      <th>median_house_value</th>\n",
       "      <th>ocean_proximity</th>\n",
       "    </tr>\n",
       "  </thead>\n",
       "  <tbody>\n",
       "    <tr>\n",
       "      <th>0</th>\n",
       "      <td>-122.23</td>\n",
       "      <td>37.88</td>\n",
       "      <td>41.0</td>\n",
       "      <td>880.0</td>\n",
       "      <td>129.0</td>\n",
       "      <td>322.0</td>\n",
       "      <td>126.0</td>\n",
       "      <td>8.3252</td>\n",
       "      <td>452600.0</td>\n",
       "      <td>NEAR BAY</td>\n",
       "    </tr>\n",
       "    <tr>\n",
       "      <th>1</th>\n",
       "      <td>-122.22</td>\n",
       "      <td>37.86</td>\n",
       "      <td>21.0</td>\n",
       "      <td>7099.0</td>\n",
       "      <td>1106.0</td>\n",
       "      <td>2401.0</td>\n",
       "      <td>1138.0</td>\n",
       "      <td>8.3014</td>\n",
       "      <td>358500.0</td>\n",
       "      <td>NEAR BAY</td>\n",
       "    </tr>\n",
       "    <tr>\n",
       "      <th>2</th>\n",
       "      <td>-122.24</td>\n",
       "      <td>37.85</td>\n",
       "      <td>52.0</td>\n",
       "      <td>1467.0</td>\n",
       "      <td>190.0</td>\n",
       "      <td>496.0</td>\n",
       "      <td>177.0</td>\n",
       "      <td>7.2574</td>\n",
       "      <td>352100.0</td>\n",
       "      <td>NEAR BAY</td>\n",
       "    </tr>\n",
       "    <tr>\n",
       "      <th>3</th>\n",
       "      <td>-122.25</td>\n",
       "      <td>37.85</td>\n",
       "      <td>52.0</td>\n",
       "      <td>1274.0</td>\n",
       "      <td>235.0</td>\n",
       "      <td>558.0</td>\n",
       "      <td>219.0</td>\n",
       "      <td>5.6431</td>\n",
       "      <td>341300.0</td>\n",
       "      <td>NEAR BAY</td>\n",
       "    </tr>\n",
       "    <tr>\n",
       "      <th>4</th>\n",
       "      <td>-122.25</td>\n",
       "      <td>37.85</td>\n",
       "      <td>52.0</td>\n",
       "      <td>1627.0</td>\n",
       "      <td>280.0</td>\n",
       "      <td>565.0</td>\n",
       "      <td>259.0</td>\n",
       "      <td>3.8462</td>\n",
       "      <td>342200.0</td>\n",
       "      <td>NEAR BAY</td>\n",
       "    </tr>\n",
       "  </tbody>\n",
       "</table>\n",
       "</div>"
      ],
      "text/plain": [
       "   longitude  latitude  housing_median_age  total_rooms  total_bedrooms  \\\n",
       "0    -122.23     37.88                41.0        880.0           129.0   \n",
       "1    -122.22     37.86                21.0       7099.0          1106.0   \n",
       "2    -122.24     37.85                52.0       1467.0           190.0   \n",
       "3    -122.25     37.85                52.0       1274.0           235.0   \n",
       "4    -122.25     37.85                52.0       1627.0           280.0   \n",
       "\n",
       "   population  households  median_income  median_house_value ocean_proximity  \n",
       "0       322.0       126.0         8.3252            452600.0        NEAR BAY  \n",
       "1      2401.0      1138.0         8.3014            358500.0        NEAR BAY  \n",
       "2       496.0       177.0         7.2574            352100.0        NEAR BAY  \n",
       "3       558.0       219.0         5.6431            341300.0        NEAR BAY  \n",
       "4       565.0       259.0         3.8462            342200.0        NEAR BAY  "
      ]
     },
     "execution_count": 8,
     "metadata": {},
     "output_type": "execute_result"
    }
   ],
   "source": [
    "df = pd.DataFrame(df)\n",
    "df.head()"
   ]
  },
  {
   "cell_type": "code",
   "execution_count": 9,
   "id": "979a5443-c680-440b-940d-6bc3e014a343",
   "metadata": {
    "tags": []
   },
   "outputs": [],
   "source": [
    "#eda\n",
    "#!pip install sweetviz"
   ]
  },
  {
   "cell_type": "code",
   "execution_count": 10,
   "id": "ae203e11-1d90-439b-8a0b-ea018b55c49d",
   "metadata": {
    "tags": []
   },
   "outputs": [],
   "source": [
    "import sweetviz as sv\n",
    "#report = sv.analyze(df)\n",
    "#report.show_html(\"./report.html\")"
   ]
  },
  {
   "cell_type": "code",
   "execution_count": 11,
   "id": "a951c0dd-6c31-4a8a-a0a6-995b3f07cdfc",
   "metadata": {},
   "outputs": [],
   "source": [
    "## Data Veri ön işleme"
   ]
  },
  {
   "cell_type": "code",
   "execution_count": 12,
   "id": "f84672a0-1965-40bf-b5ee-746b4d6d446b",
   "metadata": {},
   "outputs": [],
   "source": [
    "## Feature Engineering\n",
    "\n",
    "#!pip install geopy"
   ]
  },
  {
   "cell_type": "code",
   "execution_count": 13,
   "id": "99e63645-d718-4dd4-9d98-76c174710796",
   "metadata": {},
   "outputs": [],
   "source": [
    "##feature engineering\n",
    "\n",
    "from geopy.geocoders import Nominatim\n",
    "\n",
    "geolocator = Nominatim(user_agent=\"geoapiExercises\")"
   ]
  },
  {
   "cell_type": "code",
   "execution_count": 14,
   "id": "fcdf59f5-5b6d-4423-b0b6-2a2c9b27ff31",
   "metadata": {},
   "outputs": [
    {
     "name": "stdout",
     "output_type": "stream",
     "text": [
      "Ecological Study Area, Centennial Drive, Oakland, Alameda County, California, 94720-1076, United States\n",
      "(37.87563745, -122.22856355341203)\n",
      "{'leisure': 'Ecological Study Area', 'road': 'Centennial Drive', 'city': 'Oakland', 'county': 'Alameda County', 'state': 'California', 'postcode': '94720-1076', 'country': 'United States', 'country_code': 'us'}\n"
     ]
    }
   ],
   "source": [
    "location = geolocator.reverse(\"37.88,-122.23\")\n",
    "print(location.address)\n",
    "print((location.latitude, location.longitude))\n",
    "print(location.raw[\"address\"])"
   ]
  },
  {
   "cell_type": "code",
   "execution_count": 15,
   "id": "b69d8032-180c-4526-8294-2b3e2cfb7663",
   "metadata": {},
   "outputs": [],
   "source": [
    "def location(cord):\n",
    "    Latitude = str(cord[1])\n",
    "    Longitude = str(cord[0])\n",
    "    \"\"\"coordinates = Latitude+\",\"+Longitude\"\"\"\n",
    "    \n",
    "    location = geolocator.reverse(Latitude+\",\"+Longitude).raw[\"address\"] #raw returns a dictionary\n",
    "    \n",
    "    if location.get(\"road\") is None:\n",
    "        location['road'] = None\n",
    "        \n",
    "    if location.get(\"county\") is None:\n",
    "        location['county'] = None\n",
    "        \n",
    "    if location.get(\"neighbourhood\") is None:\n",
    "        location['neighbourhood'] = None\n",
    "    \n",
    "    loc_update['county'].append(location['county']) \n",
    "    loc_update['road'].append(location['road'])\n",
    "    loc_update['neighbourhood'].append(location['neighbourhood']) "
   ]
  },
  {
   "cell_type": "code",
   "execution_count": 16,
   "id": "08295746-ed7b-4d95-9b81-5a441d26065f",
   "metadata": {
    "tags": []
   },
   "outputs": [
    {
     "data": {
      "text/plain": [
       "'\\nloc_update={\"county\":[], \"road\":[], \"neighbourhood\":[]}\\n\\nfor i,cord in enumerate(df.iloc[:,0:2].values):\\n    location(cord)\\n    ##continously reading our data and saving it on the go\\n    pickle.dump(loc_update, open(\"loc_update.pickle\",\"wb\"))\\n    \\n    if i%500==0:\\n        print(i)'"
      ]
     },
     "execution_count": 16,
     "metadata": {},
     "output_type": "execute_result"
    }
   ],
   "source": [
    "import pickle\n",
    "\"\"\"\n",
    "loc_update={\"county\":[], \"road\":[], \"neighbourhood\":[]}\n",
    "\n",
    "for i,cord in enumerate(df.iloc[:,0:2].values):\n",
    "    location(cord)\n",
    "    ##continously reading our data and saving it on the go\n",
    "    pickle.dump(loc_update, open(\"loc_update.pickle\",\"wb\"))\n",
    "    \n",
    "    if i%500==0:\n",
    "        print(i)\"\"\""
   ]
  },
  {
   "cell_type": "code",
   "execution_count": 17,
   "id": "ebdc97f7-efd1-4580-8782-64cfe29dca82",
   "metadata": {},
   "outputs": [],
   "source": [
    "loc_update = pickle.load(open(\"loc_update.pickle\",\"rb\"))"
   ]
  },
  {
   "cell_type": "code",
   "execution_count": 18,
   "id": "1674518e-194b-425f-b8d1-91665c0249f2",
   "metadata": {
    "tags": []
   },
   "outputs": [],
   "source": [
    "loc = pd.DataFrame(loc_update)"
   ]
  },
  {
   "cell_type": "code",
   "execution_count": 19,
   "id": "fe9f47be-a733-4be2-ae40-3670118976e7",
   "metadata": {},
   "outputs": [
    {
     "name": "stdout",
     "output_type": "stream",
     "text": [
      "<class 'pandas.core.frame.DataFrame'>\n",
      "RangeIndex: 20640 entries, 0 to 20639\n",
      "Data columns (total 3 columns):\n",
      " #   Column         Non-Null Count  Dtype \n",
      "---  ------         --------------  ----- \n",
      " 0   county         20640 non-null  object\n",
      " 1   road           19522 non-null  object\n",
      " 2   neighbourhood  2190 non-null   object\n",
      "dtypes: object(3)\n",
      "memory usage: 483.9+ KB\n"
     ]
    }
   ],
   "source": [
    "loc.info()"
   ]
  },
  {
   "cell_type": "code",
   "execution_count": 20,
   "id": "14206caa-6fa6-4b96-86c9-63a8a7ee86dc",
   "metadata": {},
   "outputs": [
    {
     "data": {
      "text/html": [
       "<div>\n",
       "<style scoped>\n",
       "    .dataframe tbody tr th:only-of-type {\n",
       "        vertical-align: middle;\n",
       "    }\n",
       "\n",
       "    .dataframe tbody tr th {\n",
       "        vertical-align: top;\n",
       "    }\n",
       "\n",
       "    .dataframe thead th {\n",
       "        text-align: right;\n",
       "    }\n",
       "</style>\n",
       "<table border=\"1\" class=\"dataframe\">\n",
       "  <thead>\n",
       "    <tr style=\"text-align: right;\">\n",
       "      <th></th>\n",
       "      <th>longitude</th>\n",
       "      <th>latitude</th>\n",
       "      <th>housing_median_age</th>\n",
       "      <th>total_rooms</th>\n",
       "      <th>total_bedrooms</th>\n",
       "      <th>population</th>\n",
       "      <th>households</th>\n",
       "      <th>median_income</th>\n",
       "      <th>median_house_value</th>\n",
       "      <th>ocean_proximity</th>\n",
       "      <th>county</th>\n",
       "      <th>road</th>\n",
       "      <th>neighbourhood</th>\n",
       "    </tr>\n",
       "  </thead>\n",
       "  <tbody>\n",
       "    <tr>\n",
       "      <th>19282</th>\n",
       "      <td>-122.72</td>\n",
       "      <td>38.42</td>\n",
       "      <td>30.0</td>\n",
       "      <td>2099.0</td>\n",
       "      <td>406.0</td>\n",
       "      <td>1156.0</td>\n",
       "      <td>401.0</td>\n",
       "      <td>2.8036</td>\n",
       "      <td>152300.0</td>\n",
       "      <td>&lt;1H OCEAN</td>\n",
       "      <td>Sonoma County</td>\n",
       "      <td>Pinewood Drive</td>\n",
       "      <td>None</td>\n",
       "    </tr>\n",
       "    <tr>\n",
       "      <th>17343</th>\n",
       "      <td>-120.41</td>\n",
       "      <td>34.86</td>\n",
       "      <td>15.0</td>\n",
       "      <td>978.0</td>\n",
       "      <td>187.0</td>\n",
       "      <td>407.0</td>\n",
       "      <td>182.0</td>\n",
       "      <td>4.3750</td>\n",
       "      <td>158000.0</td>\n",
       "      <td>&lt;1H OCEAN</td>\n",
       "      <td>Santa Barbara County</td>\n",
       "      <td>None</td>\n",
       "      <td>None</td>\n",
       "    </tr>\n",
       "    <tr>\n",
       "      <th>12270</th>\n",
       "      <td>-117.06</td>\n",
       "      <td>34.00</td>\n",
       "      <td>33.0</td>\n",
       "      <td>1575.0</td>\n",
       "      <td>326.0</td>\n",
       "      <td>879.0</td>\n",
       "      <td>282.0</td>\n",
       "      <td>2.5357</td>\n",
       "      <td>94400.0</td>\n",
       "      <td>INLAND</td>\n",
       "      <td>Riverside County</td>\n",
       "      <td>Calimesa Boulevard</td>\n",
       "      <td>None</td>\n",
       "    </tr>\n",
       "    <tr>\n",
       "      <th>7198</th>\n",
       "      <td>-118.19</td>\n",
       "      <td>34.03</td>\n",
       "      <td>42.0</td>\n",
       "      <td>2250.0</td>\n",
       "      <td>629.0</td>\n",
       "      <td>2588.0</td>\n",
       "      <td>609.0</td>\n",
       "      <td>1.9719</td>\n",
       "      <td>134200.0</td>\n",
       "      <td>&lt;1H OCEAN</td>\n",
       "      <td>Los Angeles County</td>\n",
       "      <td>East 5th Street</td>\n",
       "      <td>None</td>\n",
       "    </tr>\n",
       "    <tr>\n",
       "      <th>11038</th>\n",
       "      <td>-117.80</td>\n",
       "      <td>33.83</td>\n",
       "      <td>17.0</td>\n",
       "      <td>2971.0</td>\n",
       "      <td>350.0</td>\n",
       "      <td>1180.0</td>\n",
       "      <td>346.0</td>\n",
       "      <td>11.1228</td>\n",
       "      <td>500001.0</td>\n",
       "      <td>&lt;1H OCEAN</td>\n",
       "      <td>Orange County</td>\n",
       "      <td>Cerro Villa Drive</td>\n",
       "      <td>None</td>\n",
       "    </tr>\n",
       "    <tr>\n",
       "      <th>9487</th>\n",
       "      <td>-123.22</td>\n",
       "      <td>39.28</td>\n",
       "      <td>16.0</td>\n",
       "      <td>5569.0</td>\n",
       "      <td>1106.0</td>\n",
       "      <td>3148.0</td>\n",
       "      <td>1088.0</td>\n",
       "      <td>3.1455</td>\n",
       "      <td>142900.0</td>\n",
       "      <td>&lt;1H OCEAN</td>\n",
       "      <td>Mendocino County</td>\n",
       "      <td>West Road</td>\n",
       "      <td>None</td>\n",
       "    </tr>\n",
       "    <tr>\n",
       "      <th>17952</th>\n",
       "      <td>-121.96</td>\n",
       "      <td>37.34</td>\n",
       "      <td>37.0</td>\n",
       "      <td>663.0</td>\n",
       "      <td>127.0</td>\n",
       "      <td>293.0</td>\n",
       "      <td>132.0</td>\n",
       "      <td>3.7813</td>\n",
       "      <td>247800.0</td>\n",
       "      <td>&lt;1H OCEAN</td>\n",
       "      <td>Santa Clara County</td>\n",
       "      <td>Malarin Avenue</td>\n",
       "      <td>None</td>\n",
       "    </tr>\n",
       "    <tr>\n",
       "      <th>1814</th>\n",
       "      <td>-122.31</td>\n",
       "      <td>37.91</td>\n",
       "      <td>43.0</td>\n",
       "      <td>2549.0</td>\n",
       "      <td>511.0</td>\n",
       "      <td>1060.0</td>\n",
       "      <td>528.0</td>\n",
       "      <td>3.6417</td>\n",
       "      <td>178400.0</td>\n",
       "      <td>NEAR BAY</td>\n",
       "      <td>Contra Costa County</td>\n",
       "      <td>Mendocino Street</td>\n",
       "      <td>Richmond Annex</td>\n",
       "    </tr>\n",
       "    <tr>\n",
       "      <th>6396</th>\n",
       "      <td>-118.03</td>\n",
       "      <td>34.14</td>\n",
       "      <td>44.0</td>\n",
       "      <td>1446.0</td>\n",
       "      <td>250.0</td>\n",
       "      <td>721.0</td>\n",
       "      <td>243.0</td>\n",
       "      <td>4.7308</td>\n",
       "      <td>352200.0</td>\n",
       "      <td>INLAND</td>\n",
       "      <td>Los Angeles County</td>\n",
       "      <td>Huntington Drive</td>\n",
       "      <td>None</td>\n",
       "    </tr>\n",
       "    <tr>\n",
       "      <th>3227</th>\n",
       "      <td>-119.64</td>\n",
       "      <td>36.32</td>\n",
       "      <td>32.0</td>\n",
       "      <td>2205.0</td>\n",
       "      <td>523.0</td>\n",
       "      <td>1772.0</td>\n",
       "      <td>479.0</td>\n",
       "      <td>1.3569</td>\n",
       "      <td>43100.0</td>\n",
       "      <td>INLAND</td>\n",
       "      <td>Kings County</td>\n",
       "      <td>South Green Street</td>\n",
       "      <td>None</td>\n",
       "    </tr>\n",
       "  </tbody>\n",
       "</table>\n",
       "</div>"
      ],
      "text/plain": [
       "       longitude  latitude  housing_median_age  total_rooms  total_bedrooms  \\\n",
       "19282    -122.72     38.42                30.0       2099.0           406.0   \n",
       "17343    -120.41     34.86                15.0        978.0           187.0   \n",
       "12270    -117.06     34.00                33.0       1575.0           326.0   \n",
       "7198     -118.19     34.03                42.0       2250.0           629.0   \n",
       "11038    -117.80     33.83                17.0       2971.0           350.0   \n",
       "9487     -123.22     39.28                16.0       5569.0          1106.0   \n",
       "17952    -121.96     37.34                37.0        663.0           127.0   \n",
       "1814     -122.31     37.91                43.0       2549.0           511.0   \n",
       "6396     -118.03     34.14                44.0       1446.0           250.0   \n",
       "3227     -119.64     36.32                32.0       2205.0           523.0   \n",
       "\n",
       "       population  households  median_income  median_house_value  \\\n",
       "19282      1156.0       401.0         2.8036            152300.0   \n",
       "17343       407.0       182.0         4.3750            158000.0   \n",
       "12270       879.0       282.0         2.5357             94400.0   \n",
       "7198       2588.0       609.0         1.9719            134200.0   \n",
       "11038      1180.0       346.0        11.1228            500001.0   \n",
       "9487       3148.0      1088.0         3.1455            142900.0   \n",
       "17952       293.0       132.0         3.7813            247800.0   \n",
       "1814       1060.0       528.0         3.6417            178400.0   \n",
       "6396        721.0       243.0         4.7308            352200.0   \n",
       "3227       1772.0       479.0         1.3569             43100.0   \n",
       "\n",
       "      ocean_proximity                county                road  \\\n",
       "19282       <1H OCEAN         Sonoma County      Pinewood Drive   \n",
       "17343       <1H OCEAN  Santa Barbara County                None   \n",
       "12270          INLAND      Riverside County  Calimesa Boulevard   \n",
       "7198        <1H OCEAN    Los Angeles County     East 5th Street   \n",
       "11038       <1H OCEAN         Orange County   Cerro Villa Drive   \n",
       "9487        <1H OCEAN      Mendocino County           West Road   \n",
       "17952       <1H OCEAN    Santa Clara County      Malarin Avenue   \n",
       "1814         NEAR BAY   Contra Costa County    Mendocino Street   \n",
       "6396           INLAND    Los Angeles County    Huntington Drive   \n",
       "3227           INLAND          Kings County  South Green Street   \n",
       "\n",
       "        neighbourhood  \n",
       "19282            None  \n",
       "17343            None  \n",
       "12270            None  \n",
       "7198             None  \n",
       "11038            None  \n",
       "9487             None  \n",
       "17952            None  \n",
       "1814   Richmond Annex  \n",
       "6396             None  \n",
       "3227             None  "
      ]
     },
     "execution_count": 20,
     "metadata": {},
     "output_type": "execute_result"
    }
   ],
   "source": [
    "for i in loc_update.keys():\n",
    "    df[i] = loc_update[i]\n",
    "\n",
    "df = df.sample(axis=0, frac= 1)\n",
    "df.head(10)"
   ]
  },
  {
   "cell_type": "code",
   "execution_count": 21,
   "id": "6f616195-543f-44f9-811f-9f99a220e352",
   "metadata": {},
   "outputs": [
    {
     "data": {
      "text/html": [
       "<div>\n",
       "<style scoped>\n",
       "    .dataframe tbody tr th:only-of-type {\n",
       "        vertical-align: middle;\n",
       "    }\n",
       "\n",
       "    .dataframe tbody tr th {\n",
       "        vertical-align: top;\n",
       "    }\n",
       "\n",
       "    .dataframe thead th {\n",
       "        text-align: right;\n",
       "    }\n",
       "</style>\n",
       "<table border=\"1\" class=\"dataframe\">\n",
       "  <thead>\n",
       "    <tr style=\"text-align: right;\">\n",
       "      <th></th>\n",
       "      <th>housing_median_age</th>\n",
       "      <th>total_rooms</th>\n",
       "      <th>total_bedrooms</th>\n",
       "      <th>population</th>\n",
       "      <th>households</th>\n",
       "      <th>median_income</th>\n",
       "      <th>median_house_value</th>\n",
       "      <th>county</th>\n",
       "      <th>road</th>\n",
       "    </tr>\n",
       "  </thead>\n",
       "  <tbody>\n",
       "    <tr>\n",
       "      <th>19282</th>\n",
       "      <td>30.0</td>\n",
       "      <td>2099.0</td>\n",
       "      <td>406.0</td>\n",
       "      <td>1156.0</td>\n",
       "      <td>401.0</td>\n",
       "      <td>2.8036</td>\n",
       "      <td>152300.0</td>\n",
       "      <td>Sonoma County</td>\n",
       "      <td>Pinewood Drive</td>\n",
       "    </tr>\n",
       "    <tr>\n",
       "      <th>17343</th>\n",
       "      <td>15.0</td>\n",
       "      <td>978.0</td>\n",
       "      <td>187.0</td>\n",
       "      <td>407.0</td>\n",
       "      <td>182.0</td>\n",
       "      <td>4.3750</td>\n",
       "      <td>158000.0</td>\n",
       "      <td>Santa Barbara County</td>\n",
       "      <td>None</td>\n",
       "    </tr>\n",
       "    <tr>\n",
       "      <th>12270</th>\n",
       "      <td>33.0</td>\n",
       "      <td>1575.0</td>\n",
       "      <td>326.0</td>\n",
       "      <td>879.0</td>\n",
       "      <td>282.0</td>\n",
       "      <td>2.5357</td>\n",
       "      <td>94400.0</td>\n",
       "      <td>Riverside County</td>\n",
       "      <td>Calimesa Boulevard</td>\n",
       "    </tr>\n",
       "    <tr>\n",
       "      <th>7198</th>\n",
       "      <td>42.0</td>\n",
       "      <td>2250.0</td>\n",
       "      <td>629.0</td>\n",
       "      <td>2588.0</td>\n",
       "      <td>609.0</td>\n",
       "      <td>1.9719</td>\n",
       "      <td>134200.0</td>\n",
       "      <td>Los Angeles County</td>\n",
       "      <td>East 5th Street</td>\n",
       "    </tr>\n",
       "    <tr>\n",
       "      <th>11038</th>\n",
       "      <td>17.0</td>\n",
       "      <td>2971.0</td>\n",
       "      <td>350.0</td>\n",
       "      <td>1180.0</td>\n",
       "      <td>346.0</td>\n",
       "      <td>11.1228</td>\n",
       "      <td>500001.0</td>\n",
       "      <td>Orange County</td>\n",
       "      <td>Cerro Villa Drive</td>\n",
       "    </tr>\n",
       "  </tbody>\n",
       "</table>\n",
       "</div>"
      ],
      "text/plain": [
       "       housing_median_age  total_rooms  total_bedrooms  population  \\\n",
       "19282                30.0       2099.0           406.0      1156.0   \n",
       "17343                15.0        978.0           187.0       407.0   \n",
       "12270                33.0       1575.0           326.0       879.0   \n",
       "7198                 42.0       2250.0           629.0      2588.0   \n",
       "11038                17.0       2971.0           350.0      1180.0   \n",
       "\n",
       "       households  median_income  median_house_value                county  \\\n",
       "19282       401.0         2.8036            152300.0         Sonoma County   \n",
       "17343       182.0         4.3750            158000.0  Santa Barbara County   \n",
       "12270       282.0         2.5357             94400.0      Riverside County   \n",
       "7198        609.0         1.9719            134200.0    Los Angeles County   \n",
       "11038       346.0        11.1228            500001.0         Orange County   \n",
       "\n",
       "                     road  \n",
       "19282      Pinewood Drive  \n",
       "17343                None  \n",
       "12270  Calimesa Boulevard  \n",
       "7198      East 5th Street  \n",
       "11038   Cerro Villa Drive  "
      ]
     },
     "execution_count": 21,
     "metadata": {},
     "output_type": "execute_result"
    }
   ],
   "source": [
    "df = df.drop(labels = [\"latitude\", \"longitude\", \"neighbourhood\", \"ocean_proximity\"], axis=1)\n",
    "df.head()"
   ]
  },
  {
   "cell_type": "code",
   "execution_count": 22,
   "id": "800572bb-ff09-4e80-bd2a-d80dbaa60a48",
   "metadata": {},
   "outputs": [
    {
     "name": "stdout",
     "output_type": "stream",
     "text": [
      "<class 'pandas.core.frame.DataFrame'>\n",
      "Int64Index: 20640 entries, 19282 to 17077\n",
      "Data columns (total 9 columns):\n",
      " #   Column              Non-Null Count  Dtype  \n",
      "---  ------              --------------  -----  \n",
      " 0   housing_median_age  20640 non-null  float64\n",
      " 1   total_rooms         20640 non-null  float64\n",
      " 2   total_bedrooms      20433 non-null  float64\n",
      " 3   population          20640 non-null  float64\n",
      " 4   households          20640 non-null  float64\n",
      " 5   median_income       20640 non-null  float64\n",
      " 6   median_house_value  20640 non-null  float64\n",
      " 7   county              20640 non-null  object \n",
      " 8   road                19522 non-null  object \n",
      "dtypes: float64(7), object(2)\n",
      "memory usage: 1.6+ MB\n"
     ]
    }
   ],
   "source": [
    "df.info()"
   ]
  },
  {
   "cell_type": "code",
   "execution_count": 23,
   "id": "15e43102-0122-49ba-9bec-4c53fc62dcdb",
   "metadata": {},
   "outputs": [
    {
     "data": {
      "text/plain": [
       "housing_median_age       0\n",
       "total_rooms              0\n",
       "total_bedrooms         207\n",
       "population               0\n",
       "households               0\n",
       "median_income            0\n",
       "median_house_value       0\n",
       "county                   0\n",
       "road                  1118\n",
       "dtype: int64"
      ]
     },
     "execution_count": 23,
     "metadata": {},
     "output_type": "execute_result"
    }
   ],
   "source": [
    "df.isnull().sum()"
   ]
  },
  {
   "cell_type": "code",
   "execution_count": 24,
   "id": "8d116c57-9cfd-42b1-94b7-91bf9be01dbf",
   "metadata": {},
   "outputs": [
    {
     "data": {
      "text/plain": [
       "207"
      ]
     },
     "execution_count": 24,
     "metadata": {},
     "output_type": "execute_result"
    }
   ],
   "source": [
    "df.iloc[:,2].isnull().sum()"
   ]
  },
  {
   "cell_type": "code",
   "execution_count": 25,
   "id": "fe4f4bbc-4918-4bcc-9a84-95adfe537fb8",
   "metadata": {},
   "outputs": [],
   "source": [
    "df.iloc[:,2].fillna(method=\"ffill\", inplace=True) "
   ]
  },
  {
   "cell_type": "code",
   "execution_count": 26,
   "id": "3058097d-fb2b-4192-8bb9-2c670db46dab",
   "metadata": {},
   "outputs": [
    {
     "data": {
      "text/plain": [
       "housing_median_age       0\n",
       "total_rooms              0\n",
       "total_bedrooms           0\n",
       "population               0\n",
       "households               0\n",
       "median_income            0\n",
       "median_house_value       0\n",
       "county                   0\n",
       "road                  1118\n",
       "dtype: int64"
      ]
     },
     "execution_count": 26,
     "metadata": {},
     "output_type": "execute_result"
    }
   ],
   "source": [
    "df.isnull().sum()"
   ]
  },
  {
   "cell_type": "code",
   "execution_count": 27,
   "id": "9c77f975-12dd-40db-bb9f-40839f253941",
   "metadata": {},
   "outputs": [],
   "source": [
    "#classification alg to fill the missin road values"
   ]
  },
  {
   "cell_type": "code",
   "execution_count": 28,
   "id": "2ba4c8b2-b37d-4bc0-bad6-3673baa93778",
   "metadata": {},
   "outputs": [],
   "source": [
    "#logistic regression\n",
    "\n",
    "missing_idx=[]\n",
    "\n",
    "for i in range(df.shape[0]):\n",
    "    \n",
    "    if df[\"road\"][i] is None:\n",
    "        missing_idx.append(i)\n",
    "#indipendent parametres\n",
    "missing_road_X_train= np.array([[ df[\"median_income\"][i], df[\"total_rooms\"][i] ] for i in range(df.shape[0]) if i not in missing_idx ])\n",
    "#dependent\n",
    "missing_road_y_train= np.array([ df[\"road\"][i] for i in range(df.shape[0]) if i not in missing_idx ])\n",
    "\n",
    "missing_road_X_test= np.array([[ df[\"median_income\"][i], df[\"total_rooms\"][i]] for i in range(df.shape[0]) if i in missing_idx ])"
   ]
  },
  {
   "cell_type": "code",
   "execution_count": 29,
   "id": "ea41d494-bb09-4444-a402-bf2f05b49c9c",
   "metadata": {
    "collapsed": true,
    "jupyter": {
     "outputs_hidden": true
    },
    "tags": []
   },
   "outputs": [
    {
     "name": "stderr",
     "output_type": "stream",
     "text": [
      "C:\\Users\\lechi\\anaconda3\\lib\\site-packages\\sklearn\\linear_model\\_logistic.py:763: ConvergenceWarning: lbfgs failed to converge (status=1):\n",
      "STOP: TOTAL NO. of ITERATIONS REACHED LIMIT.\n",
      "\n",
      "Increase the number of iterations (max_iter) or scale the data as shown in:\n",
      "    https://scikit-learn.org/stable/modules/preprocessing.html\n",
      "Please also refer to the documentation for alternative solver options:\n",
      "    https://scikit-learn.org/stable/modules/linear_model.html#logistic-regression\n",
      "  n_iter_i = _check_optimize_result(\n"
     ]
    }
   ],
   "source": [
    "from sklearn.linear_model import LogisticRegression \n",
    "\n",
    "model_1 = LogisticRegression()\n",
    "\n",
    "model_1.fit(missing_road_X_train, missing_road_y_train)\n",
    "\n",
    "missing_road_y_pred = model_1.predict(missing_road_X_test)"
   ]
  },
  {
   "cell_type": "code",
   "execution_count": 30,
   "id": "8e531a24-5781-4b01-b672-fbc28ebef442",
   "metadata": {},
   "outputs": [
    {
     "data": {
      "text/plain": [
       "array(['San Diego Freeway', 'West Manchester Avenue'], dtype='<U77')"
      ]
     },
     "execution_count": 30,
     "metadata": {},
     "output_type": "execute_result"
    }
   ],
   "source": [
    "np.unique(missing_road_y_pred)"
   ]
  },
  {
   "cell_type": "code",
   "execution_count": 31,
   "id": "cd0f5c60-b03d-4070-bb96-3c72a0f4930c",
   "metadata": {
    "collapsed": true,
    "jupyter": {
     "outputs_hidden": true
    },
    "tags": []
   },
   "outputs": [
    {
     "name": "stderr",
     "output_type": "stream",
     "text": [
      "C:\\Users\\lechi\\AppData\\Local\\Temp/ipykernel_3452/3013836979.py:4: SettingWithCopyWarning: \n",
      "A value is trying to be set on a copy of a slice from a DataFrame\n",
      "\n",
      "See the caveats in the documentation: https://pandas.pydata.org/pandas-docs/stable/user_guide/indexing.html#returning-a-view-versus-a-copy\n",
      "  df[\"road\"][i] = missing_road_y_pred[n]\n"
     ]
    }
   ],
   "source": [
    "#add the model back to data frame\n",
    "\n",
    "for n,i in enumerate(missing_idx):\n",
    "    df[\"road\"][i] = missing_road_y_pred[n]\n",
    "\n",
    "from sklearn.preprocessing import LabelEncoder\n",
    "\n",
    "le= LabelEncoder()\n",
    "\n",
    "df[\"road\"] = le.fit_transform(df[\"road\"])\n",
    "    "
   ]
  },
  {
   "cell_type": "code",
   "execution_count": 32,
   "id": "08dd9d51-c3f0-47fb-a862-5968069077ac",
   "metadata": {},
   "outputs": [],
   "source": [
    "#########################################"
   ]
  },
  {
   "cell_type": "code",
   "execution_count": 33,
   "id": "a063bd08-2e54-4224-aea9-786d52a3866c",
   "metadata": {},
   "outputs": [],
   "source": [
    "le= LabelEncoder()\n",
    "\n",
    "df[\"county\"] = le.fit_transform(df[\"county\"])\n",
    "    "
   ]
  },
  {
   "cell_type": "code",
   "execution_count": 34,
   "id": "9aaa5935-c752-49cd-b68e-9ad9cc431ed6",
   "metadata": {},
   "outputs": [],
   "source": [
    "########################"
   ]
  },
  {
   "cell_type": "code",
   "execution_count": 35,
   "id": "cf9f2d24-2b54-471d-9ee8-1e31f8c23e7d",
   "metadata": {},
   "outputs": [
    {
     "data": {
      "text/html": [
       "<div>\n",
       "<style scoped>\n",
       "    .dataframe tbody tr th:only-of-type {\n",
       "        vertical-align: middle;\n",
       "    }\n",
       "\n",
       "    .dataframe tbody tr th {\n",
       "        vertical-align: top;\n",
       "    }\n",
       "\n",
       "    .dataframe thead th {\n",
       "        text-align: right;\n",
       "    }\n",
       "</style>\n",
       "<table border=\"1\" class=\"dataframe\">\n",
       "  <thead>\n",
       "    <tr style=\"text-align: right;\">\n",
       "      <th></th>\n",
       "      <th>housing_median_age</th>\n",
       "      <th>total_rooms</th>\n",
       "      <th>total_bedrooms</th>\n",
       "      <th>population</th>\n",
       "      <th>households</th>\n",
       "      <th>median_income</th>\n",
       "      <th>median_house_value</th>\n",
       "      <th>county</th>\n",
       "      <th>road</th>\n",
       "    </tr>\n",
       "  </thead>\n",
       "  <tbody>\n",
       "    <tr>\n",
       "      <th>19282</th>\n",
       "      <td>30.0</td>\n",
       "      <td>2099.0</td>\n",
       "      <td>406.0</td>\n",
       "      <td>1156.0</td>\n",
       "      <td>401.0</td>\n",
       "      <td>2.8036</td>\n",
       "      <td>152300.0</td>\n",
       "      <td>51</td>\n",
       "      <td>6167</td>\n",
       "    </tr>\n",
       "    <tr>\n",
       "      <th>17343</th>\n",
       "      <td>15.0</td>\n",
       "      <td>978.0</td>\n",
       "      <td>187.0</td>\n",
       "      <td>407.0</td>\n",
       "      <td>182.0</td>\n",
       "      <td>4.3750</td>\n",
       "      <td>158000.0</td>\n",
       "      <td>44</td>\n",
       "      <td>8722</td>\n",
       "    </tr>\n",
       "    <tr>\n",
       "      <th>12270</th>\n",
       "      <td>33.0</td>\n",
       "      <td>1575.0</td>\n",
       "      <td>326.0</td>\n",
       "      <td>879.0</td>\n",
       "      <td>282.0</td>\n",
       "      <td>2.5357</td>\n",
       "      <td>94400.0</td>\n",
       "      <td>35</td>\n",
       "      <td>1229</td>\n",
       "    </tr>\n",
       "    <tr>\n",
       "      <th>7198</th>\n",
       "      <td>42.0</td>\n",
       "      <td>2250.0</td>\n",
       "      <td>629.0</td>\n",
       "      <td>2588.0</td>\n",
       "      <td>609.0</td>\n",
       "      <td>1.9719</td>\n",
       "      <td>134200.0</td>\n",
       "      <td>20</td>\n",
       "      <td>2302</td>\n",
       "    </tr>\n",
       "    <tr>\n",
       "      <th>11038</th>\n",
       "      <td>17.0</td>\n",
       "      <td>2971.0</td>\n",
       "      <td>350.0</td>\n",
       "      <td>1180.0</td>\n",
       "      <td>346.0</td>\n",
       "      <td>11.1228</td>\n",
       "      <td>500001.0</td>\n",
       "      <td>32</td>\n",
       "      <td>1500</td>\n",
       "    </tr>\n",
       "  </tbody>\n",
       "</table>\n",
       "</div>"
      ],
      "text/plain": [
       "       housing_median_age  total_rooms  total_bedrooms  population  \\\n",
       "19282                30.0       2099.0           406.0      1156.0   \n",
       "17343                15.0        978.0           187.0       407.0   \n",
       "12270                33.0       1575.0           326.0       879.0   \n",
       "7198                 42.0       2250.0           629.0      2588.0   \n",
       "11038                17.0       2971.0           350.0      1180.0   \n",
       "\n",
       "       households  median_income  median_house_value  county  road  \n",
       "19282       401.0         2.8036            152300.0      51  6167  \n",
       "17343       182.0         4.3750            158000.0      44  8722  \n",
       "12270       282.0         2.5357             94400.0      35  1229  \n",
       "7198        609.0         1.9719            134200.0      20  2302  \n",
       "11038       346.0        11.1228            500001.0      32  1500  "
      ]
     },
     "execution_count": 35,
     "metadata": {},
     "output_type": "execute_result"
    }
   ],
   "source": [
    "df.head()"
   ]
  },
  {
   "cell_type": "code",
   "execution_count": 36,
   "id": "d06565d7-bbb1-41e1-985d-e57c94c0e4ed",
   "metadata": {},
   "outputs": [],
   "source": [
    "y= df.iloc[:,-3]\n",
    "df.drop(labels=[\"median_house_value\"], axis=1, inplace=True)\n",
    "\n",
    "X= df.iloc[:, :].values"
   ]
  },
  {
   "cell_type": "code",
   "execution_count": 37,
   "id": "96846339-a0ad-4e8e-9260-004666f42414",
   "metadata": {},
   "outputs": [],
   "source": [
    "from sklearn.model_selection import train_test_split\n",
    "\n",
    "X_train, X_test, y_train, y_test = train_test_split(X, y, test_size=0.20, random_state=42)"
   ]
  },
  {
   "cell_type": "code",
   "execution_count": 38,
   "id": "4ea9ad6c-cfdf-4614-af65-d7eb26b04016",
   "metadata": {},
   "outputs": [
    {
     "data": {
      "text/plain": [
       "RandomForestRegressor()"
      ]
     },
     "execution_count": 38,
     "metadata": {},
     "output_type": "execute_result"
    }
   ],
   "source": [
    "from sklearn.ensemble import RandomForestRegressor \n",
    "model = RandomForestRegressor()\n",
    "model.fit(X_train, y_train)"
   ]
  },
  {
   "cell_type": "code",
   "execution_count": 39,
   "id": "838af7b7-2d03-4293-8f42-5105126ea5e2",
   "metadata": {},
   "outputs": [],
   "source": [
    "y_pred = model.predict(X_test)"
   ]
  },
  {
   "cell_type": "code",
   "execution_count": 40,
   "id": "65b29e54-69dc-4140-837e-757e4ce6727e",
   "metadata": {},
   "outputs": [
    {
     "data": {
      "text/plain": [
       "0.7301228812113122"
      ]
     },
     "execution_count": 40,
     "metadata": {},
     "output_type": "execute_result"
    }
   ],
   "source": [
    "from sklearn.metrics import r2_score \n",
    "\n",
    "r2_score(y_test, y_pred)"
   ]
  },
  {
   "cell_type": "code",
   "execution_count": 48,
   "id": "d4d5b366-9823-41ab-ba73-c745dda0caf5",
   "metadata": {},
   "outputs": [],
   "source": [
    "inp=np.array([30.0,2099.0,406.0,1156.0,401.0,2.8036,51,6167])"
   ]
  },
  {
   "cell_type": "code",
   "execution_count": 49,
   "id": "ddcd1b2d-f008-4428-8c21-ce61c43c2a1e",
   "metadata": {},
   "outputs": [],
   "source": [
    "ip= inp.reshape((1,-1))"
   ]
  },
  {
   "cell_type": "code",
   "execution_count": 50,
   "id": "25220543-0778-4b62-bd4b-7023c76f76dd",
   "metadata": {},
   "outputs": [
    {
     "data": {
      "text/plain": [
       "array([173947.])"
      ]
     },
     "execution_count": 50,
     "metadata": {},
     "output_type": "execute_result"
    }
   ],
   "source": [
    "model.predict(ip)"
   ]
  },
  {
   "cell_type": "code",
   "execution_count": null,
   "id": "01a1d050-9787-4d4b-b1d8-45628eecb9d2",
   "metadata": {},
   "outputs": [],
   "source": []
  }
 ],
 "metadata": {
  "kernelspec": {
   "display_name": "Python 3 (ipykernel)",
   "language": "python",
   "name": "python3"
  },
  "language_info": {
   "codemirror_mode": {
    "name": "ipython",
    "version": 3
   },
   "file_extension": ".py",
   "mimetype": "text/x-python",
   "name": "python",
   "nbconvert_exporter": "python",
   "pygments_lexer": "ipython3",
   "version": "3.9.7"
  }
 },
 "nbformat": 4,
 "nbformat_minor": 5
}
